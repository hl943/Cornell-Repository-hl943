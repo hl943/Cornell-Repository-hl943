{
 "cells": [
  {
   "cell_type": "markdown",
   "metadata": {},
   "source": [
    "<p>Problem 1</p>\n",
    "\n",
    "Problem 1(a). The confident interval is expressed as $err_{s}(h) \\pm \\sqrt{\\frac{\\ln(\\sigma/2)}{2m}}$, where the sample error is defined as: $err_{s}(h) = \\frac{1}{m}\\sum \\left(h(x_{i})\\neq y_{i}\\right)$. Calculation shown below output the "
   ]
  },
  {
   "cell_type": "code",
   "execution_count": 79,
   "metadata": {},
   "outputs": [
    {
     "name": "stdout",
     "output_type": "stream",
     "text": [
      "6\n",
      "6\n"
     ]
    }
   ],
   "source": [
    "import numpy as np\n",
    "from scipy import special\n",
    "sig = 0.95;\n",
    "def con_int(sig):\n",
    "    y = [];\n",
    "    ha = [];\n",
    "    hb = [];\n",
    "    err_ha = 0;\n",
    "    err_hb = 0;\n",
    "    haNothb =0;\n",
    "    hbNotha =0;\n",
    "\n",
    "    #Load data from text file\n",
    "    df = np.loadtxt('hyp_test_pred.txt', skiprows = 0,dtype=int);\n",
    "    for row in range(0,len(df)):\n",
    "        y.append(df[row][0])\n",
    "        ha.append(df[row][1])\n",
    "        hb.append(df[row][2])\n",
    "        err_ha = err_ha+(df[row][0] != df[row][1])\n",
    "        err_hb = err_hb+(df[row][0] != df[row][2])\n",
    "        haNothb = haNothb + (df[row][0] != df[row][2] & df[row][0] == df[row][1])\n",
    "        hbNotha = hbNotha + (df[row][0] != df[row][1] & df[row][0] == df[row][2])\n",
    "\n",
    "    m = len(y);\n",
    "    # err_ha = np.sum(ha==y);\n",
    "    # err_hb = np.sum(hb==y);\n",
    "\n",
    "    #Sample error of h_a and h_b\n",
    "    err_ha = err_ha/m;\n",
    "    err_hb = err_hb/m;\n",
    "\n",
    "    #95% confident interval\n",
    "    ci = np.sqrt(np.log(2/(1-sig))/(2*m));\n",
    "    return m, err_ha, err_hb, ci, haNothb, hbNotha\n",
    "m, err_ha, err_hb, ci, haNothb, hbNotha = con_int(sig)\n",
    "print(haNothb)\n",
    "print(hbNotha)"
   ]
  },
  {
   "cell_type": "markdown",
   "metadata": {},
   "source": [
    "Problem 1(b)\n",
    "Since haNothb+hbNotha $<$ 25, we use binomial test (as opposed as chi-square). The null hypothesis here is h_a is the same as h_b given the error rate of haNothb and hbNotha. In this case, ha!hb = 6, and hb!ha = 6, the binomial test can be written as:\n",
    "    $P(haNothb\\leq 6|p=0.5, n = 12) = {m\\choose6} p^{6}(1-p)^{(12-6)}$"
   ]
  },
  {
   "cell_type": "code",
   "execution_count": 92,
   "metadata": {},
   "outputs": [
    {
     "name": "stdout",
     "output_type": "stream",
     "text": [
      "0.2255859375\n"
     ]
    }
   ],
   "source": [
    "p = 0.5;\n",
    "n = haNothb+hbNotha;\n",
    "M_test = special.comb(n, haNothb)*p**haNothb*(1-p)**(n-haNothb)\n",
    "print(M_test)"
   ]
  },
  {
   "cell_type": "markdown",
   "metadata": {},
   "source": [
    "We cannot reject the null hypothesis, thus ha and hb is the same. "
   ]
  },
  {
   "cell_type": "code",
   "execution_count": null,
   "metadata": {},
   "outputs": [],
   "source": []
  }
 ],
 "metadata": {
  "kernelspec": {
   "display_name": "Python 3",
   "language": "python",
   "name": "python3"
  },
  "language_info": {
   "codemirror_mode": {
    "name": "ipython",
    "version": 3
   },
   "file_extension": ".py",
   "mimetype": "text/x-python",
   "name": "python",
   "nbconvert_exporter": "python",
   "pygments_lexer": "ipython3",
   "version": "3.7.3"
  }
 },
 "nbformat": 4,
 "nbformat_minor": 2
}
