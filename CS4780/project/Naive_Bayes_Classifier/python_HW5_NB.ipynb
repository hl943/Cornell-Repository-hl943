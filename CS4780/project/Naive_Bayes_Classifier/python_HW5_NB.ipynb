{
 "cells": [
  {
   "cell_type": "markdown",
   "metadata": {
    "nbgrader": {
     "grade": false,
     "locked": true,
     "solution": false
    }
   },
   "source": [
    "<h2>Project 5: Na&iuml;ve Bayes and the SVM</h2>"
   ]
  },
  {
   "cell_type": "markdown",
   "metadata": {
    "nbgrader": {
     "grade": false,
     "locked": true,
     "solution": false
    }
   },
   "source": [
    "<blockquote>\n",
    "    <center>\n",
    "    <img src=\"nb.png\" width=\"200px\" />\n",
    "    </center>\n",
    "      <p><cite><center>\"All models are wrong, but some are useful.\"<br>\n",
    "       -- George E.P. Box\n",
    "      </center></cite></p>\n",
    "</blockquote>"
   ]
  },
  {
   "cell_type": "markdown",
   "metadata": {
    "nbgrader": {
     "grade": false,
     "locked": true,
     "solution": false
    }
   },
   "source": [
    "<h3>Introduction</h3>\n",
    "<!--Aðalbrandr-->\n",
    "\n",
    "<p>A&eth;albrandr is visiting America from Norway and has been having the hardest time distinguishing boys and girls because of the weird American names like Jack and Jane.  This has been causing lots of problems for A&eth;albrandr when he goes on dates. When he heard that Cornell has a Machine Learning class, he asked that we help him identify the gender of a person based on their name to the best of our ability.  In this project, you will implement Na&iuml;ve Bayes to predict if a name is male or female. </p>"
   ]
  },
  {
   "cell_type": "markdown",
   "metadata": {
    "nbgrader": {
     "grade": false,
     "locked": true,
     "solution": false
    }
   },
   "source": [
    "<h3> Of boys and girls </h3>\n",
    "\n",
    "<p> Take a look at the files <code>girls.train</code> and <code>boys.train</code>. For example with the unix command <pre>cat girls.train</pre> \n",
    "<pre>\n",
    "...\n",
    "Addisyn\n",
    "Danika\n",
    "Emilee\n",
    "Aurora\n",
    "Julianna\n",
    "Sophia\n",
    "Kaylyn\n",
    "Litzy\n",
    "Hadassah\n",
    "</pre>\n",
    "Believe it or not, these are all more or less common girl names. The problem with the current file is that the names are in plain text, which makes it hard for a machine learning algorithm to do anything useful with them. We therefore need to transform them into some vector format, where each name becomes a vector that represents a point in some high dimensional input space. </p>\n",
    "\n",
    "<p>That is exactly what the following Python function <code>name2features</code> does: </p>"
   ]
  },
  {
   "cell_type": "code",
   "execution_count": 1,
   "metadata": {},
   "outputs": [],
   "source": [
    "#<GRADED>\n",
    "import numpy as np\n",
    "import sys\n",
    "from cvxpy import *\n",
    "from matplotlib import pyplot as plt\n",
    "#</GRADED>\n",
    "\n",
    "# add p03 folder\n",
    "sys.path.insert(0, './p03/')\n",
    "\n",
    "%matplotlib inline"
   ]
  },
  {
   "cell_type": "code",
   "execution_count": 2,
   "metadata": {
    "nbgrader": {
     "grade": false,
     "locked": true,
     "solution": false
    }
   },
   "outputs": [],
   "source": [
    "def feature_extraction_letters(baby, B):\n",
    "    v = np.zeros(B)\n",
    "    for letter in baby:\n",
    "        v[ord(letter) - 97] += 1\n",
    "    return v"
   ]
  },
  {
   "cell_type": "code",
   "execution_count": 3,
   "metadata": {
    "nbgrader": {
     "grade": false,
     "locked": true,
     "solution": false
    }
   },
   "outputs": [],
   "source": [
    "def name2features(filename, B=26, LoadFile=True):\n",
    "    \"\"\"\n",
    "    Output:\n",
    "    X : n feature vectors of dimension B, (nxB)\n",
    "    \"\"\"\n",
    "    # read in baby names\n",
    "    if LoadFile:\n",
    "        with open(filename, 'r') as f:\n",
    "            babynames = [x.rstrip() for x in f.readlines() if len(x) > 0]\n",
    "    else:\n",
    "        babynames = filename.split('\\n')\n",
    "    n = len(babynames)\n",
    "    X = np.zeros((n, B))\n",
    "    for i in range(n):\n",
    "        X[i,:] = feature_extraction_letters(babynames[i].lower(), B)\n",
    "    return X"
   ]
  },
  {
   "cell_type": "markdown",
   "metadata": {
    "nbgrader": {
     "grade": false,
     "locked": true,
     "solution": false
    }
   },
   "source": [
    "It reads every name in the given file and converts it into a 26-dimensional feature vector by mapping each letter to a feature. </p> \n",
    "\n",
    "<p>We have provided you with a python function <code>genFeatures</code>, which calls this script, transforms the names into features and loads them into memory. "
   ]
  },
  {
   "cell_type": "code",
   "execution_count": 4,
   "metadata": {
    "nbgrader": {
     "grade": false,
     "locked": true,
     "solution": false
    }
   },
   "outputs": [],
   "source": [
    "def genFeatures(dimension, name2features, file_girls, file_boys):\n",
    "    \"\"\"\n",
    "    function [x,y]=genFeatures\n",
    "    \n",
    "    This function calls the python script \"name2features.py\" \n",
    "    to convert names into feature vectors and loads in the training data. \n",
    "    \n",
    "    name2features: function that extracts features from names\n",
    "    dimension: dimensionality of the features\n",
    "    \n",
    "    Output: \n",
    "    x: n feature vectors of dimensionality d [d,n]\n",
    "    y: n labels (-1 = girl, +1 = boy)\n",
    "    \"\"\"\n",
    "    \n",
    "    # Load in the data\n",
    "    Xgirls = name2features(file_girls, B=dimension)\n",
    "    Xboys = name2features(file_boys, B=dimension)\n",
    "    X = np.concatenate([Xgirls, Xboys])\n",
    "    \n",
    "    # Generate Labels\n",
    "    Y = np.concatenate([-np.ones(len(Xgirls)), np.ones(len(Xboys))])\n",
    "    \n",
    "    # shuffle data into random order\n",
    "    ii = np.random.permutation([i for i in range(len(Y))])\n",
    "    \n",
    "    return X[ii, :], Y[ii]"
   ]
  },
  {
   "cell_type": "markdown",
   "metadata": {
    "nbgrader": {
     "grade": false,
     "locked": true,
     "solution": false
    }
   },
   "source": [
    "You can call the following command to load in the features and the labels of all boys and girls names. "
   ]
  },
  {
   "cell_type": "code",
   "execution_count": 5,
   "metadata": {
    "nbgrader": {
     "grade": false,
     "locked": false,
     "solution": false
    }
   },
   "outputs": [],
   "source": [
    "X,Y = genFeatures(26, name2features, \"girls.train\", \"boys.train\")\n",
    "xTe, yTe = genFeatures(26, name2features, \"girls.test\", \"boys.test\")"
   ]
  },
  {
   "cell_type": "markdown",
   "metadata": {
    "nbgrader": {
     "grade": false,
     "locked": true,
     "solution": false
    }
   },
   "source": [
    "<h3> Multinomial Na&iuml;ve Bayes Classifier </h3>\n",
    "\n",
    "<p> The Na&iuml;ve Bayes classifier is a linear classifier based on Bayes Rule. The following questions will ask you to finish these functions in a pre-defined order. <br>\n",
    "<strong>As a general rule, you should avoid loops at all cost.</strong></p>\n",
    "<p>(a) Estimate the class probability P(Y) in \n",
    "<b><code>naivebayesPY</code></b>\n",
    ". This should return the probability that a sample in the training set is positive or negative, independent of its features.\n",
    "</p>\n",
    "\n"
   ]
  },
  {
   "cell_type": "code",
   "execution_count": 6,
   "metadata": {},
   "outputs": [],
   "source": [
    "#<GRADED>\n",
    "def naivebayesPY(x,y):\n",
    "    \"\"\"\n",
    "    function [pos,neg] = naivebayesPY(x,y);\n",
    "\n",
    "    Computation of P(Y)\n",
    "    Input:\n",
    "        x : n input vectors of d dimensions (nxd)\n",
    "        y : n labels (-1 or +1) (nx1)\n",
    "\n",
    "    Output:\n",
    "    pos: probability p(y=1)\n",
    "    neg: probability p(y=-1)\n",
    "    \"\"\"\n",
    "    \n",
    "    # add one positive and negative example to avoid division by zero (\"plus-one smoothing\")\n",
    "    y = np.append(y, [1, -1])\n",
    "\n",
    "    ## fill in code here\n",
    "    pos = np.mean(y==1)\n",
    "    neg = np.mean(y==-1)\n",
    "    \n",
    "    return pos, neg\n",
    "\n",
    "\n",
    "#</GRADED>\n",
    "\n",
    "pos,neg = naivebayesPY(X,Y)"
   ]
  },
  {
   "cell_type": "markdown",
   "metadata": {
    "nbgrader": {
     "grade": false,
     "locked": true,
     "solution": false
    }
   },
   "source": [
    "<p>(b) Estimate the conditional probabilities P(X|Y) <b>(Maximum Likelihood Estimate)</b> without smoothing in \n",
    "<b><code>naivebayesPXY_mle</code></b>\n",
    ".  Use a <b>multinomial</b> distribution as model. This will return the probability vectors  for all features given a class label.\n",
    "</p> "
   ]
  },
  {
   "cell_type": "code",
   "execution_count": 7,
   "metadata": {},
   "outputs": [],
   "source": [
    "#<GRADED>\n",
    "def naivebayesPXY_mle(x,y):\n",
    "    \"\"\"\n",
    "    function [posprob,negprob] = naivebayesPXY(x,y);\n",
    "    \n",
    "    Computation of P(X|Y) -- Maximum Likelihood Estimate\n",
    "    Input:\n",
    "        x : n input vectors of d dimensions (nxd)\n",
    "        y : n labels (-1 or +1) (nx1)\n",
    "    \n",
    "    Output:\n",
    "    posprob: probability vector of p(x|y=1) (1xd)\n",
    "    negprob: probability vector of p(x|y=-1) (1xd)\n",
    "    \"\"\"\n",
    "    \n",
    "    ## fill in code here\n",
    "    ind = (y == 1)\n",
    "    posprob = np.sum( x[ind, :], axis=0, keepdims=True )\n",
    "    posprob = posprob / np.sum( posprob )\n",
    "    ind = (y == -1)\n",
    "    negprob = np.sum( x[ind, :], axis=0, keepdims=True )\n",
    "    negprob = negprob / np.sum( negprob )\n",
    "    \n",
    "    return posprob.flatten(), negprob.flatten()\n",
    "    \n",
    "#</GRADED>\n",
    "\n",
    "posprob_mle,negprob_mle = naivebayesPXY_mle(X,Y)"
   ]
  },
  {
   "cell_type": "markdown",
   "metadata": {},
   "source": [
    "<p>(c) Estimate the conditional probabilities P(X|Y) <b>(Smoothing with Laplace estimate)</b> in \n",
    "<b><code>naivebayesPXY_smoothing</code></b>\n",
    ".  Use a <b>multinomial</b> distribution as model. This will return the probability vectors  for all features given a class label.\n",
    "</p> "
   ]
  },
  {
   "cell_type": "code",
   "execution_count": 8,
   "metadata": {},
   "outputs": [],
   "source": [
    "#<GRADED>\n",
    "def naivebayesPXY_smoothing(x,y):\n",
    "    \"\"\"\n",
    "    function [posprob,negprob] = naivebayesPXY(x,y);\n",
    "    \n",
    "    Computation of P(X|Y) -- Smoothing with Laplace estimate\n",
    "    Input:\n",
    "        x : n input vectors of d dimensions (nxd)\n",
    "        y : n labels (-1 or +1) (nx1)\n",
    "    \n",
    "    Output:\n",
    "    posprob: probability vector of p(x|y=1) (1xd)\n",
    "    negprob: probability vector of p(x|y=-1) (1xd)\n",
    "    \"\"\"\n",
    "  \n",
    "    ## fill in code here\n",
    "    n, d = x.shape\n",
    "    ind = (y == 1)\n",
    "    posprob = np.sum( x[ind, :], axis=0, keepdims=True )\n",
    "    posprob = (posprob + 1) / (np.sum( posprob ) + d)\n",
    "    ind = (y == -1)\n",
    "    negprob = np.sum( x[ind, :], axis=0, keepdims=True )\n",
    "    negprob = (negprob + 1) / (np.sum( negprob ) + d)\n",
    "    \n",
    "    return posprob.flatten(), negprob.flatten()\n",
    "    \n",
    "#</GRADED>\n",
    "\n",
    "posprob_smoothing,negprob_smoothing = naivebayesPXY_smoothing(X,Y)"
   ]
  },
  {
   "cell_type": "markdown",
   "metadata": {
    "nbgrader": {
     "grade": false,
     "locked": true,
     "solution": false
    }
   },
   "source": [
    "<p>(d) Solve for the log ratio, $\\log\\left(\\frac{P(Y=1 | X = xtest)}{P(Y=-1|X= xtest)}\\right)$, using Bayes Rule.\n",
    " Implement this in \n",
    "<b><code>naivebayes</code></b>.\n",
    "</p>\n",
    "\n"
   ]
  },
  {
   "cell_type": "code",
   "execution_count": 9,
   "metadata": {},
   "outputs": [],
   "source": [
    "#<GRADED>\n",
    "def naivebayes(x,y,xtest,naivebayesPXY):\n",
    "    \"\"\"\n",
    "    function logratio = naivebayes(x,y);\n",
    "    \n",
    "    Computation of log P(Y|X=x1) using Bayes Rule\n",
    "    Input:\n",
    "    x : n input vectors of d dimensions (nxd)\n",
    "    y : n labels (-1 or +1)\n",
    "    xtest: input vector of d dimensions (1xd)\n",
    "    naivebayesPXY: input function for getting conditional probabilities (naivebayesPXY_smoothing OR naivebayesPXY_mle)\n",
    "    \n",
    "    Output:\n",
    "    logratio: log (P(Y = 1|X=xtest)/P(Y=-1|X=xtest))\n",
    "    \"\"\"\n",
    "    \n",
    "    ## fill in code here\n",
    "    pos,neg = naivebayesPY(x,y) # = P(Y=+1 or -1)\n",
    "    posprob,negprob = naivebayesPXY(x,y) # = P(X=x|Y=+1 or -1)\n",
    "    # P(Y|X=xt) = P(X=x|Y)*P(Y)/P(X=x)\n",
    "    # log(P(Y=1|X=xt)/P(Y=-1|X=xt)) = log((P(X=x|Y=1)*P(Y=1))/(P(X=x|Y=-1)*P(Y=-1)))\n",
    "    logratio = np.sum( xtest * np.log(posprob) ) + np.log(pos) - \\\n",
    "               np.sum( xtest * np.log(negprob) ) - np.log(neg)\n",
    "    return logratio\n",
    "\n",
    "#</GRADED>\n",
    "p_smoothing = naivebayes(X,Y,X[0,:], naivebayesPXY_smoothing)\n",
    "p_mle = naivebayes(X,Y,X[0,:], naivebayesPXY_mle)"
   ]
  },
  {
   "cell_type": "markdown",
   "metadata": {
    "nbgrader": {
     "grade": false,
     "locked": true,
     "solution": false
    }
   },
   "source": [
    "<p>(e) Naïve Bayes can also be written as a linear classifier. Implement this in \n",
    "<b><code>naivebayesCL</code></b>."
   ]
  },
  {
   "cell_type": "code",
   "execution_count": 10,
   "metadata": {},
   "outputs": [],
   "source": [
    "#<GRADED>\n",
    "def naivebayesCL(x,y,naivebayesPXY):\n",
    "    \"\"\"\n",
    "    function [w,b]=naivebayesCL(x,y);\n",
    "    Implementation of a Naive Bayes classifier\n",
    "    Input:\n",
    "    x : n input vectors of d dimensions (nxd)\n",
    "    y : n labels (-1 or +1)\n",
    "    naivebayesPXY: input function for getting conditional probabilities (naivebayesPXY_smoothing OR naivebayesPXY_mle)\n",
    "\n",
    "    Output:\n",
    "    w : weight vector of d dimensions\n",
    "    b : bias (scalar)\n",
    "    \"\"\"\n",
    "    \n",
    "    n, d = x.shape\n",
    "    ## fill in code here\n",
    "    pos,neg = naivebayesPY(x,y) # = P(Y=+1 or -1)\n",
    "    posprob,negprob = naivebayesPXY(x,y) # = P(X=x|Y=+1 or -1)\n",
    "    w = np.log(posprob) - np.log(negprob) \n",
    "    b = np.log(pos) - np.log(neg) \n",
    "    \n",
    "    return w.flatten(), b\n",
    "\n",
    "#</GRADED>\n",
    "\n",
    "w_smoothing,b_smoothing = naivebayesCL(X,Y, naivebayesPXY_smoothing)\n",
    "w_mle,b_mle = naivebayesCL(X,Y, naivebayesPXY_mle)"
   ]
  },
  {
   "cell_type": "markdown",
   "metadata": {
    "nbgrader": {
     "grade": false,
     "locked": true,
     "solution": false
    }
   },
   "source": [
    "<p>(f) Implement \n",
    "<b><code>classifyLinear</code></b>\n",
    " that applies a linear weight vector and bias to a set of input vectors and outputs their predictions.  (You can use your answer from the previous project.)\n",
    " \n",
    " "
   ]
  },
  {
   "cell_type": "code",
   "execution_count": 11,
   "metadata": {},
   "outputs": [
    {
     "name": "stdout",
     "output_type": "stream",
     "text": [
      "Training error (Smoothing with Laplace estimate): 27.67%\n",
      "Training error (Maximum Likelihood Estimate): 27.58%\n",
      "Test error (Smoothing with Laplace estimate): 30.84%\n",
      "Test error (Maximum Likelihood Estimate): 31.09%\n"
     ]
    }
   ],
   "source": [
    "#<GRADED>\n",
    "def classifyLinear(x,w,b=0):\n",
    "    \"\"\"\n",
    "    function preds=classifyLinear(x,w,b);\n",
    "    \n",
    "    Make predictions with a linear classifier\n",
    "    Input:\n",
    "    x : n input vectors of d dimensions (nxd)\n",
    "    w : weight vector of d dimensions\n",
    "    b : bias (optional)\n",
    "    \n",
    "    Output:\n",
    "    preds: predictions\n",
    "    \"\"\"\n",
    "    \n",
    "    ## fill in code here\n",
    "    preds = np.sign(x.dot(w)+b)\n",
    "    return preds\n",
    "\n",
    "#</GRADED>\n",
    "\n",
    "print('Training error (Smoothing with Laplace estimate): %.2f%%' % (100 *(classifyLinear(X, w_smoothing, b_smoothing) != Y).mean()))\n",
    "print('Training error (Maximum Likelihood Estimate): %.2f%%' % (100 *(classifyLinear(X, w_mle, b_mle) != Y).mean()))\n",
    "print('Test error (Smoothing with Laplace estimate): %.2f%%' % (100 *(classifyLinear(xTe, w_smoothing, b_smoothing) != yTe).mean()))\n",
    "print('Test error (Maximum Likelihood Estimate): %.2f%%' % (100 *(classifyLinear(xTe, w_mle, b_mle) != yTe).mean()))\n"
   ]
  },
  {
   "cell_type": "markdown",
   "metadata": {
    "nbgrader": {
     "grade": false,
     "locked": true,
     "solution": false
    }
   },
   "source": [
    "You can now test your code with the following interactive name classification script:"
   ]
  },
  {
   "cell_type": "code",
   "execution_count": null,
   "metadata": {
    "scrolled": true
   },
   "outputs": [
    {
     "name": "stdout",
     "output_type": "stream",
     "text": [
      "Loading data ...\n",
      "Training classifier (Smoothing with Laplace estimate) ...\n",
      "Training error (Smoothing with Laplace estimate): 27.67%\n",
      "Test error (Smoothing with Laplace estimate): 30.84%\n",
      "Diana\n",
      "Diana, I am sure you are a nice girl.\n",
      "\n",
      "Sam\n",
      "Sam, I am sure you are a nice girl.\n",
      "\n"
     ]
    }
   ],
   "source": [
    "DIMS = 26\n",
    "print('Loading data ...')\n",
    "X,Y = genFeatures(DIMS, name2features, \"girls.train\", \"boys.train\")\n",
    "xTe, yTe = genFeatures(26, name2features, \"girls.test\", \"boys.test\")\n",
    "print('Training classifier (Smoothing with Laplace estimate) ...')\n",
    "w,b=naivebayesCL(X,Y,naivebayesPXY_smoothing)\n",
    "train_error = np.mean(classifyLinear(X,w,b) != Y)\n",
    "test_error = np.mean(classifyLinear(xTe,w,b) != yTe)\n",
    "print('Training error (Smoothing with Laplace estimate): %.2f%%' % (100 * train_error))\n",
    "print('Test error (Smoothing with Laplace estimate): %.2f%%' % (100 * test_error))\n",
    "\n",
    "yourname = \"\"\n",
    "while yourname!=\"exit\":\n",
    "    yourname = input()\n",
    "    if len(yourname) < 1:\n",
    "        break\n",
    "    xtest = name2features(yourname,B=DIMS,LoadFile=False)\n",
    "    pred = classifyLinear(xtest,w,b)[0]\n",
    "    if pred > 0:\n",
    "        print(\"%s, I am sure you are a nice boy.\\n\" % yourname)\n",
    "    else:\n",
    "        print(\"%s, I am sure you are a nice girl.\\n\" % yourname)"
   ]
  },
  {
   "cell_type": "markdown",
   "metadata": {
    "nbgrader": {
     "grade": false,
     "locked": true,
     "solution": false
    }
   },
   "source": [
    "<h3> Feature Extraction</h3>\n",
    "\n",
    "<p> Similar to how we extracted features from names in <code>feature_extraction_letters</code>, we are going to try another way of doing so. This time, instead of mapping a letter to a feature, we will map a pair of letters to a feature. </p>\n",
    "    \n",
    "<p>\n",
    "Every element in the feature vector will represent a pair of letters (e.g. 'aa', 'ab', 'ac'...) and the element representing the pair of letters that occur in the name will be 1, otherwise 0. Make sure your feature vector <b> ordering is alphabetical </b> i.e. ['aa', 'ab', 'ac'.....'ba', 'bb'......'ca','cb'......]. The length of the feature vector will be $26^2 = 676$ to represent all possible pairs of 26 alphabets. Assume everything is in lower case.\n",
    "</p>\n",
    "\n",
    "<p>\n",
    "Here's an example, for the name 'sam', elements in the feature vector representing 'sa' and 'am' will be 1. All the other 674 features will be 0.\n",
    "</p>\n",
    "\n",
    "<p>\n",
    "Please modify <code><b>feature_extraction_letters_pairs</b></code> below to implement this feature extraction.\n",
    "</p>"
   ]
  },
  {
   "cell_type": "code",
   "execution_count": null,
   "metadata": {},
   "outputs": [],
   "source": [
    "#<GRADED>\n",
    "def feature_extraction_letters_pairs(name, B=676):\n",
    "    \"\"\"\n",
    "    Feature extration from name for pairs\n",
    "    name: name of the baby as a string\n",
    "    \n",
    "    Output:\n",
    "    v : a feature vectors of dimension B=676, (B,)\n",
    "    \"\"\"\n",
    "    v = np.zeros(B)\n",
    "    # fill code in here\n",
    "    for i in range(len(name)-1):\n",
    "        ch1 = ord(name[i]) - 97\n",
    "        ch2 = ord(name[i+1]) - 97\n",
    "        v[ch1*26 + ch2] += 1\n",
    "    # till here\n",
    "    return v\n",
    "    \n",
    "def name2features_pairs(filename, B=676, LoadFile=True):\n",
    "    \"\"\"\n",
    "    Output:\n",
    "    X : n feature vectors of dimension B, (nxB)\n",
    "    \"\"\"\n",
    "    if LoadFile:\n",
    "        with open(filename, 'r') as f:\n",
    "            babynames = [x.rstrip() for x in f.readlines() if len(x) > 0]\n",
    "    else:\n",
    "        babynames = filename.split('\\n')\n",
    "    n = len(babynames)\n",
    "    X = np.zeros((n, B))\n",
    "    for i in range(n):\n",
    "        X[i,:] = feature_extraction_letters_pairs(babynames[i].lower(), B)\n",
    "    return X\n",
    "\n",
    "#</GRADED>"
   ]
  },
  {
   "cell_type": "markdown",
   "metadata": {},
   "source": [
    "You can now test your code with the following interactive name classification script:"
   ]
  },
  {
   "cell_type": "code",
   "execution_count": null,
   "metadata": {
    "scrolled": false
   },
   "outputs": [],
   "source": [
    "''' result of the Naive Bayes classifier using pairs of letters as features '''\n",
    "DIMS = 676\n",
    "print('Loading data ...')\n",
    "Xp,Yp = genFeatures(676, name2features_pairs, \"girls.train\", \"boys.train\")\n",
    "xTe, yTe = genFeatures(676, name2features_pairs, \"girls.test\", \"boys.test\")\n",
    "print('Training classifier (Smoothing with Laplace estimate) ...')\n",
    "w,b=naivebayesCL(Xp,Yp,naivebayesPXY_smoothing)\n",
    "train_error = np.mean(classifyLinear(Xp,w,b) != Yp)\n",
    "print('Training error (Smoothing with Laplace estimate): %.2f%%' % (100 * train_error))\n",
    "test_error = np.mean(classifyLinear(xTe,w,b) != yTe)\n",
    "print('Test error (Smoothing with Laplace estimate): %.2f%%' % (100 * test_error))\n",
    "\n",
    "yourname = \"\"\n",
    "while yourname!=\"exit\":\n",
    "    print('Please enter your name>')\n",
    "    yourname = input()\n",
    "    if len(yourname) < 1:\n",
    "        break\n",
    "    xtest = name2features_pairs(yourname,B=DIMS,LoadFile=False)\n",
    "    pred = classifyLinear(xtest,w,b)[0]\n",
    "    if pred > 0:\n",
    "        print(\"%s, I am sure you are a nice boy.\\n\" % yourname)\n",
    "    else:\n",
    "        print(\"%s, I am sure you are a nice girl.\\n\" % yourname)"
   ]
  },
  {
   "cell_type": "markdown",
   "metadata": {},
   "source": [
    "<h2> SVM vs Naive Bayes</h2>\n",
    "\n",
    "We will now explore the performance of soft-margin SVM in comparison to Naive Bayes on the same dataset:"
   ]
  },
  {
   "cell_type": "code",
   "execution_count": null,
   "metadata": {},
   "outputs": [],
   "source": [
    "''' Implementation of soft-margin SVM '''\n",
    "\n",
    "def primalSVM(xTr, yTr, C=1):\n",
    "    \"\"\"\n",
    "    function (classifier,w,b) = primalSVM(xTr,yTr;C=1)\n",
    "    constructs the SVM primal formulation and uses a built-in \n",
    "    convex solver to find the optimal solution. \n",
    "    \n",
    "    Input:\n",
    "        xTr   | training data (nxd)\n",
    "        yTr   | training labels (n)\n",
    "        C     | the SVM regularization parameter\n",
    "    \n",
    "    Output:\n",
    "        fun   | usage: predictions=fun(xTe); predictions.shape = (n,)\n",
    "        wout  | the weight vector calculated by the solver\n",
    "        bout  | the bias term calculated by the solver\n",
    "    \"\"\"\n",
    "    N, d = xTr.shape\n",
    "    y = yTr.flatten()\n",
    "    \n",
    "    w = Variable(d)\n",
    "    b = Variable(1)\n",
    "    e = Variable(N)\n",
    "    objective = sum_squares(w) + C*sum(e)\n",
    "    constraints = [e >= 0, \n",
    "                   multiply(y, xTr*w + b) >= 1-e]\n",
    "    prob = Problem(Minimize(objective), constraints)\n",
    "    prob.solve()\n",
    "    wout = w.value\n",
    "    bout = b.value\n",
    "    eout = e.value\n",
    "    \n",
    "    fun = lambda x: x.dot(wout) + bout\n",
    "    return fun, wout, bout"
   ]
  },
  {
   "cell_type": "markdown",
   "metadata": {},
   "source": [
    "Comparison of results for SVM vs Naive Bayes using single-letter features"
   ]
  },
  {
   "cell_type": "code",
   "execution_count": null,
   "metadata": {},
   "outputs": [],
   "source": [
    "C=20\n",
    "\n",
    "xTr,yTr = genFeatures(26, name2features, \"girls.train\", \"boys.train\")\n",
    "xTe, yTe = genFeatures(26, name2features, \"girls.test\", \"boys.test\")\n",
    "fun, _, _ = primalSVM(xTr, yTr, C)\n",
    "\n",
    "svm_err_tr1=np.mean(np.array((np.sign(fun(xTr)))!=yTr).flatten())\n",
    "print(\"Training error using SVM: %2.1f%%\" % (svm_err_tr1*100))\n",
    "nb_w,nb_b=naivebayesCL(xTr,yTr,naivebayesPXY_smoothing)\n",
    "nb_train_error1 = np.mean(classifyLinear(xTr,nb_w,nb_b) != yTr)\n",
    "print('Training error using Naive Bayes with smoothing: %.2f%%' % (100 * nb_train_error1))\n",
    "\n",
    "svm_err_te1=np.mean(np.array((np.sign(fun(xTe)))!=yTe).flatten())\n",
    "print(\"Test error using SVM: %2.1f%%\" % (svm_err_te1*100))\n",
    "nb_test_error1 = np.mean(classifyLinear(xTe,nb_w,nb_b) != yTe)\n",
    "print('Test error using Naive Bayes with smoothing: %.2f%%' % (100 * nb_test_error1))"
   ]
  },
  {
   "cell_type": "markdown",
   "metadata": {},
   "source": [
    "Comparison of results for SVM vs Naive Bayes using paired-letter features"
   ]
  },
  {
   "cell_type": "code",
   "execution_count": 26,
   "metadata": {},
   "outputs": [
    {
     "name": "stdout",
     "output_type": "stream",
     "text": [
      "Training error using SVM: 10.8%\n",
      "Training error using Naive Bayes with smoothing: 24.92%\n",
      "Test error using SVM: 27.5%\n",
      "Test error using Naive Bayes with smoothing: 32.71%\n"
     ]
    }
   ],
   "source": [
    "xTr,yTr = genFeatures(676, name2features_pairs, \"girls.train\", \"boys.train\")\n",
    "xTe, yTe = genFeatures(676, name2features_pairs, \"girls.test\", \"boys.test\")\n",
    "fun, _, _ = primalSVM(xTr, yTr, C)\n",
    "\n",
    "svm_err_tr2=np.mean(np.array((np.sign(fun(xTr)))!=yTr).flatten())\n",
    "print(\"Training error using SVM: %2.1f%%\" % (svm_err_tr2*100))\n",
    "nb_w,nb_b=naivebayesCL(xTr,yTr,naivebayesPXY_smoothing)\n",
    "nb_train_error2 = np.mean(classifyLinear(xTr,nb_w,nb_b) != yTr)\n",
    "print('Training error using Naive Bayes with smoothing: %.2f%%' % (100 * nb_train_error2))\n",
    "\n",
    "svm_err_te2=np.mean(np.array((np.sign(fun(xTe)))!=yTe).flatten())\n",
    "print(\"Test error using SVM: %2.1f%%\" % (svm_err_te2*100))\n",
    "nb_test_error2 = np.mean(classifyLinear(xTe,nb_w,nb_b) != yTe)\n",
    "print('Test error using Naive Bayes with smoothing: %.2f%%' % (100 * nb_test_error2))"
   ]
  },
  {
   "cell_type": "markdown",
   "metadata": {},
   "source": [
    "Visual Comparison"
   ]
  },
  {
   "cell_type": "code",
   "execution_count": 27,
   "metadata": {},
   "outputs": [
    {
     "data": {
      "image/png": "[encoded data removed]",
      "text/plain": [
       "<Figure size 600x450 with 1 Axes>"
      ]
     },
     "metadata": {},
     "output_type": "display_data"
    }
   ],
   "source": [
    "nb = [100 * nb_train_error1, 100 * nb_test_error1, 100 * nb_train_error2, 100 * nb_test_error2]\n",
    "svm = [svm_err_tr1 * 100, 100 * svm_err_te1, svm_err_tr2 * 100, 100 * svm_err_te2]\n",
    "n_groups = 4\n",
    "\n",
    "fig, ax = plt.subplots(figsize=(6,4.5), dpi = 100)\n",
    "index = np.arange(n_groups)\n",
    "bar_width = 0.35\n",
    "opacity = 0.8\n",
    "\n",
    "rects1 = plt.bar(index, nb, bar_width,\n",
    "alpha=opacity,\n",
    "color='b',\n",
    "label='NaiveBayes')\n",
    "\n",
    "rects2 = plt.bar(index + bar_width, svm, bar_width,\n",
    "alpha=opacity,\n",
    "color='r',\n",
    "label='SVM')\n",
    "\n",
    "plt.xlabel('')\n",
    "plt.ylabel('Error (% age)')\n",
    "plt.title('Error Rates Comparison')\n",
    "plt.xticks(index + bar_width, ('letter-train', 'letter-test', 'pairs-train', 'pairs-test'))\n",
    "plt.legend()\n",
    "\n",
    "plt.tight_layout()\n",
    "plt.show()"
   ]
  },
  {
   "cell_type": "markdown",
   "metadata": {},
   "source": [
    "<h4>Credits</h4>\n",
    "  Parts of this webpage were copied from or heavily inspired by John DeNero's and Dan Klein's (awesome) <a href=\"http://ai.berkeley.edu/project_overview.html\">Pacman class</a>. The name classification idea originates from <a href=\"http://nickm.com\">Nick Montfort</a>."
   ]
  }
 ],
 "metadata": {
  "anaconda-cloud": {},
  "kernelspec": {
   "display_name": "Python 3",
   "language": "python",
   "name": "python3"
  },
  "language_info": {
   "codemirror_mode": {
    "name": "ipython",
    "version": 3
   },
   "file_extension": ".py",
   "mimetype": "text/x-python",
   "name": "python",
   "nbconvert_exporter": "python",
   "pygments_lexer": "ipython3",
   "version": "3.7.3"
  }
 },
 "nbformat": 4,
 "nbformat_minor": 1
}
